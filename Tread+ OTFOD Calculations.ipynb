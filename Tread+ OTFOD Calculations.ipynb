{
 "cells": [
  {
   "cell_type": "markdown",
   "id": "a8cf8e27-4e98-4c32-8c2b-effd261cab7a",
   "metadata": {},
   "source": [
    "This code takes a data output from Looker and determines order to first offer metrics for Tread+ CPSC reporting"
   ]
  },
  {
   "cell_type": "code",
   "execution_count": 1,
   "id": "2cadd498-6d9c-4097-8b32-b7d7e2044654",
   "metadata": {},
   "outputs": [
    {
     "name": "stdin",
     "output_type": "stream",
     "text": [
      "Enter the year and month of reporting in the format YYYY-MM:  2024-03\n"
     ]
    }
   ],
   "source": [
    "response1 = input('Enter the year and month of reporting in the format YYYY-MM: ')"
   ]
  },
  {
   "cell_type": "code",
   "execution_count": 2,
   "id": "4fb2dfec-92ff-41c0-9c41-c3131a5b4972",
   "metadata": {},
   "outputs": [],
   "source": [
    "import pandas as pd"
   ]
  },
  {
   "cell_type": "code",
   "execution_count": 3,
   "id": "f47d718e-727d-4fd0-bf67-0186ad8aeba7",
   "metadata": {},
   "outputs": [
    {
     "name": "stderr",
     "output_type": "stream",
     "text": [
      "/var/folders/vm/78_qysq11pj_svvr0pc6qz6h0000gp/T/ipykernel_6658/3921277969.py:2: DtypeWarning: Columns (7) have mixed types. Specify dtype option on import or set low_memory=False.\n",
      "  df = pd.read_csv('Tread+ OTFOD Raw Data.csv',encoding='iso8859_1')\n"
     ]
    }
   ],
   "source": [
    "#Read in data from Looker csv export\n",
    "df = pd.read_csv('Tread+ OTFOD Raw Data.csv',encoding='iso8859_1')"
   ]
  },
  {
   "cell_type": "markdown",
   "id": "7c031b21-795a-44e0-80cb-752eabaa45fe",
   "metadata": {},
   "source": [
    "Data Cleaning"
   ]
  },
  {
   "cell_type": "code",
   "execution_count": 4,
   "id": "b57801b8-2504-4285-92fd-5e624ecfcdd4",
   "metadata": {},
   "outputs": [],
   "source": [
    "#Drop looker index row\n",
    "df = df.drop('Unnamed: 0',axis=1)"
   ]
  },
  {
   "cell_type": "code",
   "execution_count": 5,
   "id": "8fca388d-85cb-44fe-a9dc-4dc01fbd94ca",
   "metadata": {},
   "outputs": [],
   "source": [
    "#Convert OTD column to a float for comparison with first available OTD\n",
    "df['OTD'] = df['OTD'].str.replace(',','').astype(float)"
   ]
  },
  {
   "cell_type": "code",
   "execution_count": 6,
   "id": "a796987a-3b48-44be-a938-929cdc16ea19",
   "metadata": {
    "scrolled": true
   },
   "outputs": [],
   "source": [
    "#Create boolean fields to check if OTD values are blank or not\n",
    "df['FA OTD Bool'] = df['First Available OTD'].isna()\n",
    "df['OTD Bool'] = df['OTD'].isna()"
   ]
  },
  {
   "cell_type": "markdown",
   "id": "19b0ed39-6c83-42a8-aa78-49e21a85944e",
   "metadata": {},
   "source": [
    "Formulas"
   ]
  },
  {
   "cell_type": "code",
   "execution_count": 7,
   "id": "ff5e58e7-7ff9-44be-90da-a522de44fc85",
   "metadata": {},
   "outputs": [],
   "source": [
    "#Define a formula to calculate OTFOD depending on values in boolean fields\n",
    "def OTFOD_values(row):\n",
    "    if row['FA OTD Bool'] == False and row['OTD Bool'] == False and row['First Available OTD'] < row['OTD']:\n",
    "        return row['First Available OTD']\n",
    "    elif row['FA OTD Bool'] == False and row['OTD Bool'] == False and row['First Available OTD'] >= row['OTD']:\n",
    "        return row['OTD']\n",
    "    elif row['FA OTD Bool'] == True and row['OTD Bool'] == False:\n",
    "        return row['OTD']\n",
    "    else:\n",
    "        return row['First Available OTD']"
   ]
  },
  {
   "cell_type": "code",
   "execution_count": 8,
   "id": "2b6337f2-c26d-48c6-bf2d-5d484b6cc13f",
   "metadata": {},
   "outputs": [],
   "source": [
    "#Define a formula to compare both booleans and exclude them if both are blank\n",
    "def OTFOD_comparison(row):\n",
    "    if row['FA OTD Bool'] == True and row['OTD Bool'] == True:\n",
    "        return 'Exclude'\n",
    "    else:\n",
    "        return 'Include'"
   ]
  },
  {
   "cell_type": "code",
   "execution_count": 9,
   "id": "75924870-61cf-4b5e-b21d-e14cbac132a4",
   "metadata": {},
   "outputs": [],
   "source": [
    "#Filter dataset to create specific return & relocation filters, save each as new dataframe\n",
    "df_return = df.loc[(df['External Product Type'] == 'tread-plus') & (df['Type'] == 'return')].copy()\n",
    "df_relo = df.loc[df['Slug'] == 'room-to-room-tread-plus'].copy()"
   ]
  },
  {
   "cell_type": "markdown",
   "id": "083769ca-dcb8-4547-9915-49e00c72c4d4",
   "metadata": {},
   "source": [
    "Return data processing"
   ]
  },
  {
   "cell_type": "code",
   "execution_count": 10,
   "id": "49876fa3-3e2b-4d15-a23e-8f22a6f9ea44",
   "metadata": {},
   "outputs": [],
   "source": [
    "#Use a lambda function to apply the formula along each row in the dataframe and save results in a new column\n",
    "df_return['OTFOD Final'] = df_return.apply(lambda row : OTFOD_values(row),axis = 1)"
   ]
  },
  {
   "cell_type": "code",
   "execution_count": 11,
   "id": "2137368f-ff74-4bba-ac1a-2c0475e59057",
   "metadata": {},
   "outputs": [],
   "source": [
    "#Use a lambda function to apply the formula along each row in the dataframe and save results in a new column\n",
    "df_return['Status'] = df_return.apply(lambda row: OTFOD_comparison(row),axis=1)"
   ]
  },
  {
   "cell_type": "code",
   "execution_count": 12,
   "id": "3e57eb45-1802-4f65-a8d0-c33228683416",
   "metadata": {},
   "outputs": [],
   "source": [
    "#Perform OTFOD calculations\n",
    "sub22 = ((df_return['Status'] == 'Include') & (df_return['Created At Month'] == response1) & (df_return['OTFOD Final'] < 22)).sum()\n",
    "available = ((df_return['Status'] == 'Include') & (df_return['Created At Month'] == response1)).sum()\n",
    "rate = (sub22 / available) * 100"
   ]
  },
  {
   "cell_type": "markdown",
   "id": "602085a1-6838-40ea-8a5d-9ea2e50dede3",
   "metadata": {},
   "source": [
    "Room to room data processing"
   ]
  },
  {
   "cell_type": "code",
   "execution_count": 13,
   "id": "b41244d1-e460-4545-9205-ed6e5a13bf43",
   "metadata": {},
   "outputs": [],
   "source": [
    "#Use a lambda function to apply the formula along each row in the dataframe and save results in a new column\n",
    "df_relo['OTFOD Final'] = df_relo.apply(lambda row : OTFOD_values(row),axis = 1)"
   ]
  },
  {
   "cell_type": "code",
   "execution_count": 14,
   "id": "f9bb172c-3a43-47f6-880d-9a528aaf01ab",
   "metadata": {},
   "outputs": [],
   "source": [
    "#Use a lambda function to apply the formula along each row in the dataframe and save results in a new column\n",
    "df_relo['Status'] = df_relo.apply(lambda row: OTFOD_comparison(row),axis=1)"
   ]
  },
  {
   "cell_type": "code",
   "execution_count": 15,
   "id": "0197f788-34bb-426f-aa0f-2e32c595cc9d",
   "metadata": {},
   "outputs": [],
   "source": [
    "#Perform OTFOD calculations\n",
    "relo_sub22 = ((df_relo['Status'] == 'Include') & (df_relo['Created At Month'] == response1) & (df_relo['OTFOD Final'] < 22)).sum()\n",
    "relo_available = ((df_relo['Status'] == 'Include') & (df_relo['Created At Month'] == response1)).sum()\n",
    "relo_rate = (relo_sub22 / relo_available) * 100"
   ]
  },
  {
   "cell_type": "markdown",
   "id": "99239147-70d0-4c42-8f5e-b71be703df6f",
   "metadata": {},
   "source": [
    "Final Values"
   ]
  },
  {
   "cell_type": "code",
   "execution_count": 16,
   "id": "b762c301-6144-4af9-9da7-5a384f8e3ffb",
   "metadata": {},
   "outputs": [
    {
     "name": "stdout",
     "output_type": "stream",
     "text": [
      "OTFOD < 22:  44\n",
      "OTFOD Available:  46\n",
      "% within 21:  95.65\n",
      "Relo OTFOD < 22:  13\n",
      "Relo OTFOD Available:  14\n",
      "Relo % within 21:  92.86\n"
     ]
    }
   ],
   "source": [
    "print('OTFOD < 22: ', sub22)\n",
    "print('OTFOD Available: ', available)\n",
    "print('% within 21: ', round(rate,2))\n",
    "print('Relo OTFOD < 22: ', relo_sub22)\n",
    "print('Relo OTFOD Available: ', relo_available)\n",
    "print('Relo % within 21: ', round(relo_rate,2))"
   ]
  },
  {
   "cell_type": "code",
   "execution_count": 17,
   "id": "29b338d5-19fb-4a88-b8c3-9bebb9022e42",
   "metadata": {},
   "outputs": [
    {
     "name": "stdout",
     "output_type": "stream",
     "text": [
      "OTFOD Available:  60\n",
      "OTFOD < 22:  57\n",
      "X exceeded 21 days:  3\n"
     ]
    }
   ],
   "source": [
    "print('OTFOD Available: ', available + relo_available)\n",
    "print('OTFOD < 22: ', sub22 + relo_sub22)\n",
    "print('X exceeded 21 days: ', ((available + relo_available)-(sub22 + relo_sub22)))"
   ]
  }
 ],
 "metadata": {
  "kernelspec": {
   "display_name": "Python 3 (ipykernel)",
   "language": "python",
   "name": "python3"
  },
  "language_info": {
   "codemirror_mode": {
    "name": "ipython",
    "version": 3
   },
   "file_extension": ".py",
   "mimetype": "text/x-python",
   "name": "python",
   "nbconvert_exporter": "python",
   "pygments_lexer": "ipython3",
   "version": "3.11.7"
  }
 },
 "nbformat": 4,
 "nbformat_minor": 5
}
