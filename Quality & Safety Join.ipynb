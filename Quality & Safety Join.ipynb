{
 "cells": [
  {
   "cell_type": "code",
   "execution_count": 1,
   "id": "3fd1ac51-9f1e-43c6-a3ee-c2239f83e182",
   "metadata": {
    "tags": []
   },
   "outputs": [],
   "source": [
    "import pandas as pd\n",
    "import csv\n",
    "import sqlite3\n",
    "from datetime import datetime, timedelta"
   ]
  },
  {
   "cell_type": "code",
   "execution_count": 2,
   "id": "cb615e67-f29e-4c0c-b982-1f1d613b283a",
   "metadata": {
    "tags": []
   },
   "outputs": [],
   "source": [
    "#Read in raw data\n",
    "df1 = pd.read_excel('/Users/david.dibara/Downloads/2. Safety Incidents_Full Database.xlsx',skiprows = 5)\n",
    "df2 = pd.read_csv('/Users/david.dibara/Downloads/SNES Raw Data.csv')"
   ]
  },
  {
   "cell_type": "code",
   "execution_count": 3,
   "id": "e0dab51a-0c6b-460e-9196-9d52756b6a0f",
   "metadata": {
    "tags": []
   },
   "outputs": [],
   "source": [
    "#Drop unecessary columns\n",
    "df1 = df1.drop(['Member First Name','Member Last Name','Member Number', 'Member Email', 'Member Address', 'Member Phone', 'Member Location','Purchased From', 'Delivery By', 'Did an Injury Occur?', 'Describe the Injury', 'Medical Attention or Hospitalization?', 'Is Product under recall?', \n",
    "                'Recall Related?', 'Recall Repair Type', 'Was Fire or Smoke Reported?', 'Damage from Fire?', 'Property Damage?', 'Property Damage Details', 'Product in Use?', 'Details of Usage', 'Incident Description','Is Product being Returned?','Safety Team Assessment', 'Injury Type',\n",
    "                'Investigation Status', 'Legal Disposition', 'Product Disposition', 'Closure Date', 'Closure Comments','Zendesk Ticket Number', 'Model'],axis=1)\n",
    "df2 = df2.drop('Unnamed: 0',axis=1)"
   ]
  },
  {
   "cell_type": "code",
   "execution_count": 4,
   "id": "1502592b-e36b-4448-944c-ba2eb114ac3c",
   "metadata": {
    "tags": []
   },
   "outputs": [],
   "source": [
    "#Reformat date fields to same data type\n",
    "df1['Date Incident Reported to Peloton'] = df1['Date Incident Reported to Peloton'].dt.date\n",
    "df1['Product Delivery Date'] = df1['Product Delivery Date'].dt.date\n",
    "df2['Originating Order Delivery Date'] = pd.to_datetime(df2['Originating Order Delivery Date'], format='%Y-%m-%d').dt.date\n",
    "df2['Event Date Date'] = pd.to_datetime(df2['Event Date Date'], format='%Y-%m-%d').dt.date"
   ]
  },
  {
   "cell_type": "code",
   "execution_count": 5,
   "id": "81515969-4df9-48df-9134-63ddc4099552",
   "metadata": {
    "tags": []
   },
   "outputs": [],
   "source": [
    "#Rename all safety fields to remove spaces\n",
    "df1 = df1.rename(columns={'Incident ID':'Incident_ID','Incident Date':'Incident_Date','Product Delivery Date':'Product_Delivery_Date','Date Incident Reported to Peloton':'Date_Incident_Reported_to_Peloton','Date Added to Safety Database':'Date_Added_to_Safety_Database','Serial Number(s)':'Serial_Numbers','Reported Issue':'Reported_Issue','Retrieve Product':'Retrieve_Product','Product System':'Product_System','Product Subsystem':'Product_Subsystem','Product Component':'Product_Component','Failure Mode':'Failure_Mode','Tag 1':'Tag_1','Tag 2':'Tag_2','Likelihood of Product being Origin':'Likelihood_of_Product_being_Origin','Property Damage Extent':'Property_Damage_Extent','Injury Extent':'Injury_Extent','Contact Week':'Contact_Week','Manufacturing Site':'Manufacturing_Site','Manufacturing Month':'Manufacturing_Month','Manufacturing Year':'Manufacturing_Year','Contact Month':'Contact_Month','Contact Year':'Contact_Year','Contact Quarter':'Contact_Quarter','Time From PL contact to form entry':'Time_From_PL_contact_to_form_entry','Age at Fault':'Age_at_Fault'})\n",
    "df2 = df2.rename(columns={'Originating Order ID All Channels':'Originating_Order_ID_All_Channels','Originating Order Internal Product Type':'Originating_Order_Internal_Product_Type','Originating Order Delivery Date':'Originating_Order_Delivery_Date','Days Since Install':'Days_Since_Install','Event Date Date':'Event_Date_Date','Order ID':'Order_ID','Support Order Internal Product Type':'Support_Order_Internal_Product_Type','Support Order Priority Issue':'Support_Order_Priority_Issue','Support Order SKU List':'Support_Order_SKU_List','Serial Number Frame Chassis':'Serial_Number_Frame_Chassis','Is Claim Order (Yes / No)':'Is_Claim_Order','Is New/Refurbished':'Is_New_Refurbished','Subscription ID':'Subscription_ID'})"
   ]
  },
  {
   "cell_type": "code",
   "execution_count": 6,
   "id": "66324084-67a4-4e13-af86-2c1d7993e1fa",
   "metadata": {
    "tags": []
   },
   "outputs": [],
   "source": [
    "#Connect to database & create a cursor\n",
    "conn = sqlite3.connect('quality_safety_join.db')\n",
    "c = conn.cursor()"
   ]
  },
  {
   "cell_type": "code",
   "execution_count": 7,
   "id": "f57285da-8751-4818-8fda-47954ae83b78",
   "metadata": {
    "scrolled": true,
    "tags": []
   },
   "outputs": [
    {
     "data": {
      "text/plain": [
       "973180"
      ]
     },
     "execution_count": 7,
     "metadata": {},
     "output_type": "execute_result"
    }
   ],
   "source": [
    "# Write the DataFrames to SQLite database tables\n",
    "df1.to_sql('safety', conn, if_exists='replace', index=False)\n",
    "df2.to_sql('quality', conn, if_exists='replace', index=False)"
   ]
  },
  {
   "cell_type": "code",
   "execution_count": 8,
   "id": "b5be94a1-490c-41d4-8a71-ce72908c2f39",
   "metadata": {
    "tags": []
   },
   "outputs": [
    {
     "data": {
      "text/plain": [
       "<sqlite3.Cursor at 0x130737940>"
      ]
     },
     "execution_count": 8,
     "metadata": {},
     "output_type": "execute_result"
    }
   ],
   "source": [
    "#Add a column to safety data to indicate safety issue\n",
    "c.execute('''ALTER TABLE safety\n",
    "             ADD COLUMN Is_Safety_Issue BOOLEAN''')\n",
    "c.execute('''UPDATE safety \n",
    "             SET Is_Safety_Issue = CASE WHEN Incident_ID IS NOT NULL THEN \"Yes\" ELSE \"No\" END''')"
   ]
  },
  {
   "cell_type": "markdown",
   "id": "9869cdcf-49bb-4837-8dbb-c2d77cd55cb0",
   "metadata": {},
   "source": [
    "Data Joining"
   ]
  },
  {
   "cell_type": "code",
   "execution_count": 10,
   "id": "e7f9e653-aa05-4d14-9f9e-50b2067015fe",
   "metadata": {},
   "outputs": [],
   "source": [
    "#Save column names for safety table in a list to use in formulas\n",
    "column_names = c.execute(\"PRAGMA table_info(safety)\")\n",
    "safety_columns = []\n",
    "for name in column_names:\n",
    "    safety_columns.append(name[1])"
   ]
  },
  {
   "cell_type": "code",
   "execution_count": 11,
   "id": "c9bf8b69-4f95-46e4-972e-bfc2b7efd826",
   "metadata": {},
   "outputs": [],
   "source": [
    "#Save column names for quality table in a list to use in formulas\n",
    "column_names = c.execute(\"PRAGMA table_info(quality)\")\n",
    "quality_columns = []\n",
    "for name in column_names:\n",
    "    quality_columns.append(name[1])"
   ]
  },
  {
   "cell_type": "code",
   "execution_count": 12,
   "id": "f697808d-fe93-4203-8054-6b78da04e0b8",
   "metadata": {},
   "outputs": [],
   "source": [
    "#Combine column names and null placeholders for use in union formula\n",
    "safety_names = ', '.join(safety_columns)\n",
    "quality_null = ', NULL AS '.join(quality_columns)\n",
    "safety_str = \", NULL AS \".join([safety_names,quality_null])\n",
    "quality_names = ', '.join(quality_columns)\n",
    "safety_null = 'NULL AS ' + ', NULL AS '.join(safety_columns)\n",
    "quality_str = ', ' + ', '.join([safety_null,quality_names])\n",
    "trimmed_q_string = quality_str[2:]"
   ]
  },
  {
   "cell_type": "code",
   "execution_count": 13,
   "id": "3b433b49-c27e-4079-a84f-be5a6e190756",
   "metadata": {},
   "outputs": [
    {
     "data": {
      "text/plain": [
       "<sqlite3.Cursor at 0x130737940>"
      ]
     },
     "execution_count": 13,
     "metadata": {},
     "output_type": "execute_result"
    }
   ],
   "source": [
    "#Union the two scaffolded tables into a single joined table\n",
    "c.execute('CREATE TABLE safety_quality AS SELECT {} FROM safety UNION SELECT {} FROM quality'.format(safety_str,trimmed_q_string))"
   ]
  },
  {
   "cell_type": "markdown",
   "id": "dc547bbb-49b9-44ff-a817-09ab2aedfabf",
   "metadata": {},
   "source": [
    "Post-Join Processing"
   ]
  },
  {
   "cell_type": "code",
   "execution_count": 15,
   "id": "f2be8e25-050f-4bed-988b-75d4de30b899",
   "metadata": {
    "tags": []
   },
   "outputs": [
    {
     "data": {
      "text/plain": [
       "<sqlite3.Cursor at 0x130737940>"
      ]
     },
     "execution_count": 15,
     "metadata": {},
     "output_type": "execute_result"
    }
   ],
   "source": [
    "#Created a unified product field and map internal product names to external product names\n",
    "c.execute('ALTER TABLE safety_quality ADD COLUMN unified_product TEXT')\n",
    "c.execute('''UPDATE safety_quality\n",
    "           SET unified_product =\n",
    "               CASE \n",
    "                   WHEN Incident_ID IS NOT NULL THEN Product_System\n",
    "                   WHEN Originating_Order_Internal_Product_Type = \"v1\" THEN \"Bike\"\n",
    "                   WHEN Originating_Order_Internal_Product_Type = \"titan\" THEN \"Bike_Plus\"\n",
    "                   WHEN Originating_Order_Internal_Product_Type = \"prism\" THEN \"Tread\"\n",
    "                   WHEN Originating_Order_Internal_Product_Type = \"aurora\" THEN \"Tread_Plus\"\n",
    "                   WHEN Originating_Order_Internal_Product_Type = \"caesar\" THEN \"Row\"\n",
    "                   WHEN Originating_Order_Internal_Product_Type = \"hera\" THEN \"HRM\"\n",
    "                   WHEN Originating_Order_Internal_Product_Type = \"tiger\" THEN \"Guide\"\n",
    "                   ELSE NULL\n",
    "               END''')"
   ]
  },
  {
   "cell_type": "code",
   "execution_count": 16,
   "id": "d54d356d-4bcd-4056-9f4b-e299abea71ad",
   "metadata": {
    "tags": []
   },
   "outputs": [
    {
     "data": {
      "text/plain": [
       "<sqlite3.Cursor at 0x130737940>"
      ]
     },
     "execution_count": 16,
     "metadata": {},
     "output_type": "execute_result"
    }
   ],
   "source": [
    "#Create a merged delivery date field\n",
    "c.execute('ALTER TABLE safety_quality ADD COLUMN merged_delivery_date DATE')\n",
    "c.execute('''UPDATE safety_quality\n",
    "                 SET merged_delivery_date = \n",
    "                     CASE\n",
    "                         WHEN Incident_ID IS NOT NULL THEN Product_Delivery_Date\n",
    "                         ELSE Originating_Order_Delivery_Date\n",
    "                     END''')"
   ]
  },
  {
   "cell_type": "code",
   "execution_count": 17,
   "id": "a284da45-7723-4ab3-b743-934621899ee2",
   "metadata": {
    "tags": []
   },
   "outputs": [
    {
     "data": {
      "text/plain": [
       "<sqlite3.Cursor at 0x130737940>"
      ]
     },
     "execution_count": 17,
     "metadata": {},
     "output_type": "execute_result"
    }
   ],
   "source": [
    "#Create a merged event date field\n",
    "c.execute('ALTER TABLE safety_quality ADD COLUMN merged_event_date DATE')\n",
    "c.execute('''UPDATE safety_quality\n",
    "                 SET merged_event_date = \n",
    "                     CASE\n",
    "                         WHEN Incident_ID IS NOT NULL THEN Date_Incident_Reported_to_Peloton\n",
    "                         ELSE Event_Date_Date\n",
    "                     END''')"
   ]
  },
  {
   "cell_type": "code",
   "execution_count": 18,
   "id": "ff165333-974d-4f83-bad5-93750f509fd5",
   "metadata": {
    "tags": []
   },
   "outputs": [
    {
     "data": {
      "text/plain": [
       "<sqlite3.Cursor at 0x130737940>"
      ]
     },
     "execution_count": 18,
     "metadata": {},
     "output_type": "execute_result"
    }
   ],
   "source": [
    "#Create new columns for delivery month and event month, keeping date formatting. Set month fields equal to the first date within each month\n",
    "c.execute('ALTER TABLE safety_quality ADD COLUMN delivery_month DATE')\n",
    "c.execute('ALTER TABLE safety_quality ADD COLUMN event_month DATE')\n",
    "c.execute('''UPDATE safety_quality SET delivery_month = strftime('%Y-%m-01', merged_delivery_date)''')\n",
    "c.execute('''UPDATE safety_quality SET event_month = strftime('%Y-%m-01', merged_event_date)''')"
   ]
  },
  {
   "cell_type": "code",
   "execution_count": 19,
   "id": "331fa8b1-00e6-4bbc-9313-9bdc9bfc4367",
   "metadata": {
    "tags": []
   },
   "outputs": [
    {
     "data": {
      "text/plain": [
       "<sqlite3.Cursor at 0x130737940>"
      ]
     },
     "execution_count": 19,
     "metadata": {},
     "output_type": "execute_result"
    }
   ],
   "source": [
    "#Create an table for summary metrics by delivery date\n",
    "c.execute('''DROP TABLE IF EXISTS delivery_summary_table''')\n",
    "c.execute('''CREATE TABLE delivery_summary_table AS\n",
    "                 SELECT delivery_month,\n",
    "                        unified_product,\n",
    "                        COUNT (DISTINCT CASE WHEN Originating_Order_Internal_Product_Type IS NOT NULL THEN Originating_Order_ID_All_Channels ELSE NULL END) AS quality_install_count,\n",
    "                        COUNT (DISTINCT CASE WHEN Is_Claim_Order = \"Yes\" THEN Order_ID ELSE NULL END) AS quality_claim_count, \n",
    "                        COUNT (DISTINCT CASE WHEN Is_Safety_Issue = \"Yes\" THEN Incident_ID ELSE NULL END) AS safety_claim_count\n",
    "                 FROM safety_quality\n",
    "                 GROUP BY 1, 2\n",
    "                 ORDER BY 1 DESC''')"
   ]
  },
  {
   "cell_type": "code",
   "execution_count": 20,
   "id": "8b51c9d0-cb4f-4637-bbaa-b126e6283e39",
   "metadata": {
    "tags": []
   },
   "outputs": [
    {
     "data": {
      "text/plain": [
       "<sqlite3.Cursor at 0x130737940>"
      ]
     },
     "execution_count": 20,
     "metadata": {},
     "output_type": "execute_result"
    }
   ],
   "source": [
    "#Create an table for summary metrics by event date\n",
    "c.execute('''DROP TABLE IF EXISTS event_summary_table''')\n",
    "c.execute('''CREATE TABLE event_summary_table AS\n",
    "                 SELECT event_month,\n",
    "                        unified_product,\n",
    "                        COUNT (DISTINCT CASE WHEN Originating_Order_Internal_Product_Type IS NOT NULL THEN Originating_Order_ID_All_Channels ELSE NULL END) AS quality_install_count,\n",
    "                        COUNT (DISTINCT CASE WHEN Is_Claim_Order = \"Yes\" THEN Order_ID ELSE NULL END) AS quality_claim_count, \n",
    "                        COUNT (DISTINCT CASE WHEN Is_Safety_Issue = \"Yes\" THEN Incident_ID ELSE NULL END) AS safety_claim_count\n",
    "                 FROM safety_quality\n",
    "                 GROUP BY 1, 2\n",
    "                 ORDER BY 1 DESC''')"
   ]
  },
  {
   "cell_type": "code",
   "execution_count": 21,
   "id": "4c62c402-90e9-4bb9-a6a2-7267186c215c",
   "metadata": {
    "tags": []
   },
   "outputs": [],
   "source": [
    "#Write the final tables to a dataframe\n",
    "df_delivery = pd.read_sql_query('SELECT * FROM delivery_summary_table',conn)\n",
    "df_event = pd.read_sql_query('SELECT * FROM event_summary_table', conn)"
   ]
  },
  {
   "cell_type": "code",
   "execution_count": 45,
   "id": "b21f93f2-65cb-4ec1-99bf-8ba436b351cb",
   "metadata": {
    "tags": []
   },
   "outputs": [],
   "source": [
    "#Export results to .csv for Looker studio ingestion\n",
    "df_delivery.to_csv('/Users/david.dibara/Downloads/delivery_table.csv',index=False)\n",
    "df_event.to_csv('/Users/david.dibara/Downloads/event_table.csv',index=False)"
   ]
  },
  {
   "cell_type": "code",
   "execution_count": 23,
   "id": "095e251b-36da-4497-b958-fa04cf6e042d",
   "metadata": {
    "tags": []
   },
   "outputs": [],
   "source": [
    "#close the cursor and connection to the database\n",
    "c.close()\n",
    "conn.close()"
   ]
  }
 ],
 "metadata": {
  "kernelspec": {
   "display_name": "Python 3 (ipykernel)",
   "language": "python",
   "name": "python3"
  },
  "language_info": {
   "codemirror_mode": {
    "name": "ipython",
    "version": 3
   },
   "file_extension": ".py",
   "mimetype": "text/x-python",
   "name": "python",
   "nbconvert_exporter": "python",
   "pygments_lexer": "ipython3",
   "version": "3.11.7"
  }
 },
 "nbformat": 4,
 "nbformat_minor": 5
}
