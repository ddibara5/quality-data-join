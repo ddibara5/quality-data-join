{
  "cells": [
    {
      "cell_type": "code",
      "execution_count": null,
      "metadata": {
        "id": "QRB-G5uORU1F"
      },
      "outputs": [],
      "source": [
        "import requests\n",
        "import configparser\n",
        "import pandas as pd\n",
        "import gspread\n",
        "from google.colab import drive\n",
        "from google.colab import auth\n",
        "from google.colab import userdata\n",
        "from google.auth import default"
      ]
    },
    {
      "cell_type": "code",
      "source": [
        "#Authorize\n",
        "auth.authenticate_user()\n",
        "creds, _ = default()\n",
        "gc = gspread.authorize(creds)"
      ],
      "metadata": {
        "id": "i0LIu7FvzNh8"
      },
      "execution_count": null,
      "outputs": []
    },
    {
      "cell_type": "code",
      "source": [
        "#Mount google drive file path\n",
        "drive.mount('/content/drive/',force_remount=True)"
      ],
      "metadata": {
        "colab": {
          "base_uri": "https://localhost:8080/"
        },
        "id": "FfA3_iI8zCub",
        "outputId": "ece418a5-bcc4-48e0-84a9-ea4b935b03a8"
      },
      "execution_count": null,
      "outputs": [
        {
          "output_type": "stream",
          "name": "stdout",
          "text": [
            "Mounted at /content/drive/\n"
          ]
        }
      ]
    },
    {
      "cell_type": "code",
      "source": [
        "#Pull client ID and secret from google storage\n",
        "client_id = userdata.get('etqdev_clientid')\n",
        "client_secret = userdata.get('etqdev_secret')"
      ],
      "metadata": {
        "id": "WtrTdaN0wYRC"
      },
      "execution_count": null,
      "outputs": []
    },
    {
      "cell_type": "code",
      "execution_count": null,
      "metadata": {
        "id": "tgKRtGx0RZQI"
      },
      "outputs": [],
      "source": [
        "#define parameters for access token call\n",
        "url = 'https://reliance-auth-prod-a.auth.us-east-1.amazoncognito.com/oauth2/token'\n",
        "data = {'grant_type': 'client_credentials',\n",
        "          'client_id': client_id,\n",
        "          'client_secret': client_secret}\n",
        "headers = {'Content-Type':'application/x-www-form-urlencoded'}"
      ]
    },
    {
      "cell_type": "code",
      "execution_count": null,
      "metadata": {
        "id": "2ohCjA5ySHy1",
        "tags": []
      },
      "outputs": [],
      "source": [
        "#Send post request to get access token\n",
        "response = requests.post(url,data=data,headers=headers)"
      ]
    },
    {
      "cell_type": "code",
      "execution_count": null,
      "metadata": {
        "id": "WZXCuWS8SjOw",
        "colab": {
          "base_uri": "https://localhost:8080/"
        },
        "outputId": "7760c163-1bfa-402b-f662-d41d4d554f87"
      },
      "outputs": [
        {
          "output_type": "stream",
          "name": "stdout",
          "text": [
            "Access token aquired\n"
          ]
        }
      ],
      "source": [
        "#Check if the request was successful. If successful, process the data\n",
        "if response.status_code == 200:\n",
        "    data = response.json()\n",
        "    access_token = data.get('access_token', None)\n",
        "    print('Access token aquired')\n",
        "else:\n",
        "    print('Failed to retrieve access token:', response.status_code)"
      ]
    },
    {
      "cell_type": "code",
      "execution_count": null,
      "metadata": {
        "tags": [],
        "id": "i-AO4Lk4vpAc"
      },
      "outputs": [],
      "source": [
        "#define parameters for record get call\n",
        "application_name = 'CUSTOMERS'\n",
        "form_name = 'CUSTOMER_COMPLAINTS'\n",
        "document_IDs = '1637, 1638, 1639, 1640'\n",
        "base_url = 'https://dev-peloton.api.etq.com/reliance'\n",
        "full_url = f\"{base_url}/rest/v1/documents/{application_name}/{form_name}/{document_IDs}\"\n",
        "headers = {'Content-Type':'application/json', 'Authorization': f\"Bearer {access_token}\"}"
      ]
    },
    {
      "cell_type": "code",
      "execution_count": null,
      "metadata": {
        "tags": [],
        "colab": {
          "base_uri": "https://localhost:8080/"
        },
        "id": "IN3GMqmBvpAd",
        "outputId": "d5a809a7-1b7e-4ac0-b103-6ab0e2843a4d"
      },
      "outputs": [
        {
          "output_type": "stream",
          "name": "stdout",
          "text": [
            "Data retrieved successfully\n"
          ]
        }
      ],
      "source": [
        "#Make get call and save resulting json\n",
        "response = requests.get(full_url, headers=headers)\n",
        "if response.status_code == 200:\n",
        "        data = response.json()\n",
        "        print('Data retrieved successfully')\n",
        "else:\n",
        "    print('Failed to retrieve data:', response.status_code)"
      ]
    },
    {
      "cell_type": "code",
      "execution_count": null,
      "metadata": {
        "tags": [],
        "id": "srKz8gaqvpAe"
      },
      "outputs": [],
      "source": [
        "#Normalize json data and save into dataframe to get a list of records\n",
        "records = pd.json_normalize(data['Document'])"
      ]
    },
    {
      "cell_type": "code",
      "execution_count": null,
      "metadata": {
        "tags": [],
        "id": "blC79UstvpAe"
      },
      "outputs": [],
      "source": [
        "#Transform the data to match the output of google sheets data source\n",
        "rows = []\n",
        "for field in data['Document']:\n",
        "    row = {}\n",
        "    for fieldname in field['Fields']:\n",
        "        name = fieldname['fieldName']\n",
        "        value = fieldname.get('Values',[None])[0]\n",
        "        row[name] = value\n",
        "    rows.append(row)\n",
        "df = pd.DataFrame(rows)"
      ]
    },
    {
      "cell_type": "code",
      "source": [
        "#Open database source sheet\n",
        "sheet = gc.open('Test - Safety Database Source').sheet1"
      ],
      "metadata": {
        "id": "jReY_ypqxCuU"
      },
      "execution_count": null,
      "outputs": []
    },
    {
      "cell_type": "code",
      "source": [
        "#Update the sheet with column titles and values from the dataframe\n",
        "sheet.update([df.columns.values.tolist()] + df.values.tolist())"
      ],
      "metadata": {
        "colab": {
          "base_uri": "https://localhost:8080/"
        },
        "id": "S5j6ZJcv0Kz_",
        "outputId": "850e9852-b4c9-4735-f5a2-402cb59209a1"
      },
      "execution_count": null,
      "outputs": [
        {
          "output_type": "execute_result",
          "data": {
            "text/plain": [
              "{'spreadsheetId': '1UDOT0FoI5-2BiQ-TaBvSs3fXC7QEmDPGaQDpVNy6_9E',\n",
              " 'updatedRange': 'Sheet1!A1:DT5',\n",
              " 'updatedRows': 5,\n",
              " 'updatedColumns': 124,\n",
              " 'updatedCells': 230}"
            ]
          },
          "metadata": {},
          "execution_count": 29
        }
      ]
    },
    {
      "cell_type": "code",
      "execution_count": null,
      "metadata": {
        "tags": [],
        "id": "YlasOMnLvpAf"
      },
      "outputs": [],
      "source": [
        "#Reset index to incident ID column, TBD\n",
        "#df.set_index('PEL_INCIDENTS_PRIMARY_INC', inplace = True)"
      ]
    }
  ],
  "metadata": {
    "colab": {
      "provenance": []
    },
    "kernelspec": {
      "display_name": "Python 3 (ipykernel)",
      "language": "python",
      "name": "python3"
    },
    "language_info": {
      "codemirror_mode": {
        "name": "ipython",
        "version": 3
      },
      "file_extension": ".py",
      "mimetype": "text/x-python",
      "name": "python",
      "nbconvert_exporter": "python",
      "pygments_lexer": "ipython3",
      "version": "3.10.11"
    }
  },
  "nbformat": 4,
  "nbformat_minor": 0
}